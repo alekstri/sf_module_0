{
 "cells": [
  {
   "cell_type": "code",
   "execution_count": 9,
   "metadata": {},
   "outputs": [
    {
     "name": "stdout",
     "output_type": "stream",
     "text": [
      "Ваш алгоритм угадывает число в среднем за 5 попыток\n"
     ]
    },
    {
     "data": {
      "text/plain": [
       "5"
      ]
     },
     "execution_count": 9,
     "metadata": {},
     "output_type": "execute_result"
    }
   ],
   "source": [
    "import numpy as np\n",
    "\n",
    "#задаем границы диапазона\n",
    "minr=1\n",
    "maxr=100\n",
    "\n",
    "def game_core(number,minr,maxr):\n",
    "    minf=minr #новый динамичный минимум\n",
    "    maxf=maxr #новый динамичный максимум\n",
    "    count=1\n",
    "    predict=round((minf+maxf)/2) #первый прогноз\n",
    "    while number!=predict:\n",
    "        count+=1\n",
    "        if number>predict: minf=predict #сужаем границы возможного диапазона использую новую информацию\n",
    "        if number<predict: maxf=predict #сужаем границы возможного диапазона использую новую информацию\n",
    "        if (minf+maxf)/2==minr+0.5: #проверка нижнего диапазона чтобы не застрять на 1.5\n",
    "            predict=minf\n",
    "        else:\n",
    "            predict=int(round((minf+maxf)/2)) #новый прогноз - середина нового диапазона\n",
    "    return(count)\n",
    "\n",
    "def score_game(game_core):\n",
    "    count_ls = []\n",
    "    np.random.seed(1)  # фиксируем RANDOM SEED, чтобы ваш эксперимент был воспроизводим!\n",
    "    random_array = np.random.randint(minr, maxr+1, size=(1000))\n",
    "    for number in random_array:\n",
    "        count_ls.append(game_core(number,minr,maxr))\n",
    "    score = int(np.mean(count_ls))\n",
    "    print(f\"Ваш алгоритм угадывает число в среднем за {score} попыток\")\n",
    "    return(score)\n",
    "\n",
    "score_game(game_core)"
   ]
  },
  {
   "cell_type": "code",
   "execution_count": null,
   "metadata": {},
   "outputs": [],
   "source": []
  }
 ],
 "metadata": {
  "kernelspec": {
   "display_name": "Python 3",
   "language": "python",
   "name": "python3"
  },
  "language_info": {
   "codemirror_mode": {
    "name": "ipython",
    "version": 3
   },
   "file_extension": ".py",
   "mimetype": "text/x-python",
   "name": "python",
   "nbconvert_exporter": "python",
   "pygments_lexer": "ipython3",
   "version": "3.7.4"
  }
 },
 "nbformat": 4,
 "nbformat_minor": 2
}
